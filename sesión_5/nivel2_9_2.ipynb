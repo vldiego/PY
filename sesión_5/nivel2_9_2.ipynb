{
 "cells": [
  {
   "cell_type": "markdown",
   "metadata": {},
   "source": [
    "<center><img src=\"https://www.mindinventory.com/blog/wp-content/uploads/2019/04/python-development-1200x500.png\" width=\"1000\"></center>"
   ]
  },
  {
   "cell_type": "markdown",
   "metadata": {},
   "source": [
    "# Programa de Especialización en Python\n",
    "\n",
    "## Tema 9. Comprimir datos mediante la reducción de dimensionalidad: caso práctico bupa\n",
    "\n",
    "### Prof. Manuel Sigüeñas, M.Sc.(c)\n",
    "[msguenas@socialdata-peru.com](msguenas@socialdata-peru.com)"
   ]
  },
  {
   "cell_type": "markdown",
   "metadata": {},
   "source": [
    "<br>\n",
    "<br>"
   ]
  },
  {
   "cell_type": "markdown",
   "metadata": {},
   "source": [
    "# Compresion de datos supervisada mediante análisis discriminante lineal"
   ]
  },
  {
   "cell_type": "markdown",
   "metadata": {},
   "source": [
    "<br>\n",
    "<br>"
   ]
  },
  {
   "cell_type": "markdown",
   "metadata": {},
   "source": [
    "<a id='beginning'></a>\n",
    "\n",
    "**Caso: determinantes de las palabras claves para Marketing.**\n",
    "\n",
    "1. [Importar la data](#part1)\n",
    "\n",
    "\n",
    "2. [Estandarizar los datos](#part2)\n",
    "\n",
    "\n",
    "3. [Calcula las matrices de dispersión](#part3)\n",
    "\n",
    "\n",
    "4. [Seleccionar discriminantes lineales para el nuevo subespacio de caracteristicas](#part4)\n",
    "\n",
    "\n",
    "5. [Proyección de muestras en el nuevo espacio de características](#part5)\n"
   ]
  },
  {
   "cell_type": "markdown",
   "metadata": {},
   "source": [
    "<a id='part1'></a>\n",
    "## Importar la data"
   ]
  },
  {
   "cell_type": "code",
   "execution_count": 149,
   "metadata": {},
   "outputs": [],
   "source": [
    "import pandas as pd"
   ]
  },
  {
   "cell_type": "code",
   "execution_count": 150,
   "metadata": {},
   "outputs": [],
   "source": [
    "bu= pd.read_excel('C:/Users/Social Data/Desktop/wbs/Analisis de Discriminante/Clase manuel/Ejercicio aplicado manuel/diabetes_py.xlsx')"
   ]
  },
  {
   "cell_type": "code",
   "execution_count": 151,
   "metadata": {},
   "outputs": [
    {
     "data": {
      "text/html": [
       "<div>\n",
       "<style scoped>\n",
       "    .dataframe tbody tr th:only-of-type {\n",
       "        vertical-align: middle;\n",
       "    }\n",
       "\n",
       "    .dataframe tbody tr th {\n",
       "        vertical-align: top;\n",
       "    }\n",
       "\n",
       "    .dataframe thead th {\n",
       "        text-align: right;\n",
       "    }\n",
       "</style>\n",
       "<table border=\"1\" class=\"dataframe\">\n",
       "  <thead>\n",
       "    <tr style=\"text-align: right;\">\n",
       "      <th></th>\n",
       "      <th>Clase</th>\n",
       "      <th>glucosa</th>\n",
       "      <th>insulina</th>\n",
       "      <th>sspg</th>\n",
       "    </tr>\n",
       "  </thead>\n",
       "  <tbody>\n",
       "    <tr>\n",
       "      <th>0</th>\n",
       "      <td>1</td>\n",
       "      <td>97</td>\n",
       "      <td>289</td>\n",
       "      <td>117</td>\n",
       "    </tr>\n",
       "    <tr>\n",
       "      <th>1</th>\n",
       "      <td>1</td>\n",
       "      <td>105</td>\n",
       "      <td>319</td>\n",
       "      <td>143</td>\n",
       "    </tr>\n",
       "    <tr>\n",
       "      <th>2</th>\n",
       "      <td>1</td>\n",
       "      <td>90</td>\n",
       "      <td>356</td>\n",
       "      <td>199</td>\n",
       "    </tr>\n",
       "    <tr>\n",
       "      <th>3</th>\n",
       "      <td>1</td>\n",
       "      <td>90</td>\n",
       "      <td>323</td>\n",
       "      <td>240</td>\n",
       "    </tr>\n",
       "    <tr>\n",
       "      <th>4</th>\n",
       "      <td>1</td>\n",
       "      <td>86</td>\n",
       "      <td>381</td>\n",
       "      <td>157</td>\n",
       "    </tr>\n",
       "    <tr>\n",
       "      <th>5</th>\n",
       "      <td>1</td>\n",
       "      <td>100</td>\n",
       "      <td>350</td>\n",
       "      <td>221</td>\n",
       "    </tr>\n",
       "    <tr>\n",
       "      <th>6</th>\n",
       "      <td>1</td>\n",
       "      <td>85</td>\n",
       "      <td>301</td>\n",
       "      <td>186</td>\n",
       "    </tr>\n",
       "    <tr>\n",
       "      <th>7</th>\n",
       "      <td>1</td>\n",
       "      <td>97</td>\n",
       "      <td>379</td>\n",
       "      <td>142</td>\n",
       "    </tr>\n",
       "    <tr>\n",
       "      <th>8</th>\n",
       "      <td>1</td>\n",
       "      <td>97</td>\n",
       "      <td>296</td>\n",
       "      <td>131</td>\n",
       "    </tr>\n",
       "    <tr>\n",
       "      <th>9</th>\n",
       "      <td>1</td>\n",
       "      <td>91</td>\n",
       "      <td>353</td>\n",
       "      <td>221</td>\n",
       "    </tr>\n",
       "    <tr>\n",
       "      <th>10</th>\n",
       "      <td>1</td>\n",
       "      <td>87</td>\n",
       "      <td>306</td>\n",
       "      <td>178</td>\n",
       "    </tr>\n",
       "    <tr>\n",
       "      <th>11</th>\n",
       "      <td>1</td>\n",
       "      <td>78</td>\n",
       "      <td>290</td>\n",
       "      <td>136</td>\n",
       "    </tr>\n",
       "    <tr>\n",
       "      <th>12</th>\n",
       "      <td>1</td>\n",
       "      <td>90</td>\n",
       "      <td>371</td>\n",
       "      <td>200</td>\n",
       "    </tr>\n",
       "    <tr>\n",
       "      <th>13</th>\n",
       "      <td>1</td>\n",
       "      <td>80</td>\n",
       "      <td>393</td>\n",
       "      <td>202</td>\n",
       "    </tr>\n",
       "    <tr>\n",
       "      <th>14</th>\n",
       "      <td>1</td>\n",
       "      <td>90</td>\n",
       "      <td>364</td>\n",
       "      <td>152</td>\n",
       "    </tr>\n",
       "    <tr>\n",
       "      <th>15</th>\n",
       "      <td>1</td>\n",
       "      <td>99</td>\n",
       "      <td>359</td>\n",
       "      <td>185</td>\n",
       "    </tr>\n",
       "    <tr>\n",
       "      <th>16</th>\n",
       "      <td>1</td>\n",
       "      <td>85</td>\n",
       "      <td>296</td>\n",
       "      <td>116</td>\n",
       "    </tr>\n",
       "    <tr>\n",
       "      <th>17</th>\n",
       "      <td>1</td>\n",
       "      <td>90</td>\n",
       "      <td>345</td>\n",
       "      <td>123</td>\n",
       "    </tr>\n",
       "    <tr>\n",
       "      <th>18</th>\n",
       "      <td>1</td>\n",
       "      <td>90</td>\n",
       "      <td>378</td>\n",
       "      <td>136</td>\n",
       "    </tr>\n",
       "    <tr>\n",
       "      <th>19</th>\n",
       "      <td>1</td>\n",
       "      <td>88</td>\n",
       "      <td>304</td>\n",
       "      <td>134</td>\n",
       "    </tr>\n",
       "    <tr>\n",
       "      <th>20</th>\n",
       "      <td>1</td>\n",
       "      <td>90</td>\n",
       "      <td>327</td>\n",
       "      <td>192</td>\n",
       "    </tr>\n",
       "    <tr>\n",
       "      <th>21</th>\n",
       "      <td>1</td>\n",
       "      <td>92</td>\n",
       "      <td>386</td>\n",
       "      <td>279</td>\n",
       "    </tr>\n",
       "    <tr>\n",
       "      <th>22</th>\n",
       "      <td>1</td>\n",
       "      <td>98</td>\n",
       "      <td>365</td>\n",
       "      <td>145</td>\n",
       "    </tr>\n",
       "    <tr>\n",
       "      <th>23</th>\n",
       "      <td>1</td>\n",
       "      <td>100</td>\n",
       "      <td>352</td>\n",
       "      <td>172</td>\n",
       "    </tr>\n",
       "    <tr>\n",
       "      <th>24</th>\n",
       "      <td>1</td>\n",
       "      <td>86</td>\n",
       "      <td>325</td>\n",
       "      <td>179</td>\n",
       "    </tr>\n",
       "    <tr>\n",
       "      <th>25</th>\n",
       "      <td>1</td>\n",
       "      <td>98</td>\n",
       "      <td>321</td>\n",
       "      <td>222</td>\n",
       "    </tr>\n",
       "    <tr>\n",
       "      <th>26</th>\n",
       "      <td>1</td>\n",
       "      <td>70</td>\n",
       "      <td>360</td>\n",
       "      <td>134</td>\n",
       "    </tr>\n",
       "    <tr>\n",
       "      <th>27</th>\n",
       "      <td>1</td>\n",
       "      <td>99</td>\n",
       "      <td>336</td>\n",
       "      <td>143</td>\n",
       "    </tr>\n",
       "    <tr>\n",
       "      <th>28</th>\n",
       "      <td>1</td>\n",
       "      <td>75</td>\n",
       "      <td>352</td>\n",
       "      <td>169</td>\n",
       "    </tr>\n",
       "    <tr>\n",
       "      <th>29</th>\n",
       "      <td>1</td>\n",
       "      <td>90</td>\n",
       "      <td>353</td>\n",
       "      <td>263</td>\n",
       "    </tr>\n",
       "    <tr>\n",
       "      <th>...</th>\n",
       "      <td>...</td>\n",
       "      <td>...</td>\n",
       "      <td>...</td>\n",
       "      <td>...</td>\n",
       "    </tr>\n",
       "    <tr>\n",
       "      <th>85</th>\n",
       "      <td>2</td>\n",
       "      <td>92</td>\n",
       "      <td>541</td>\n",
       "      <td>313</td>\n",
       "    </tr>\n",
       "    <tr>\n",
       "      <th>86</th>\n",
       "      <td>2</td>\n",
       "      <td>92</td>\n",
       "      <td>580</td>\n",
       "      <td>132</td>\n",
       "    </tr>\n",
       "    <tr>\n",
       "      <th>87</th>\n",
       "      <td>2</td>\n",
       "      <td>93</td>\n",
       "      <td>472</td>\n",
       "      <td>285</td>\n",
       "    </tr>\n",
       "    <tr>\n",
       "      <th>88</th>\n",
       "      <td>2</td>\n",
       "      <td>112</td>\n",
       "      <td>562</td>\n",
       "      <td>139</td>\n",
       "    </tr>\n",
       "    <tr>\n",
       "      <th>89</th>\n",
       "      <td>2</td>\n",
       "      <td>88</td>\n",
       "      <td>423</td>\n",
       "      <td>212</td>\n",
       "    </tr>\n",
       "    <tr>\n",
       "      <th>90</th>\n",
       "      <td>2</td>\n",
       "      <td>114</td>\n",
       "      <td>643</td>\n",
       "      <td>155</td>\n",
       "    </tr>\n",
       "    <tr>\n",
       "      <th>91</th>\n",
       "      <td>2</td>\n",
       "      <td>103</td>\n",
       "      <td>533</td>\n",
       "      <td>120</td>\n",
       "    </tr>\n",
       "    <tr>\n",
       "      <th>92</th>\n",
       "      <td>3</td>\n",
       "      <td>303</td>\n",
       "      <td>1487</td>\n",
       "      <td>23</td>\n",
       "    </tr>\n",
       "    <tr>\n",
       "      <th>93</th>\n",
       "      <td>3</td>\n",
       "      <td>125</td>\n",
       "      <td>714</td>\n",
       "      <td>232</td>\n",
       "    </tr>\n",
       "    <tr>\n",
       "      <th>94</th>\n",
       "      <td>3</td>\n",
       "      <td>280</td>\n",
       "      <td>1470</td>\n",
       "      <td>54</td>\n",
       "    </tr>\n",
       "    <tr>\n",
       "      <th>95</th>\n",
       "      <td>3</td>\n",
       "      <td>216</td>\n",
       "      <td>1113</td>\n",
       "      <td>81</td>\n",
       "    </tr>\n",
       "    <tr>\n",
       "      <th>96</th>\n",
       "      <td>3</td>\n",
       "      <td>190</td>\n",
       "      <td>972</td>\n",
       "      <td>87</td>\n",
       "    </tr>\n",
       "    <tr>\n",
       "      <th>97</th>\n",
       "      <td>3</td>\n",
       "      <td>303</td>\n",
       "      <td>1364</td>\n",
       "      <td>42</td>\n",
       "    </tr>\n",
       "    <tr>\n",
       "      <th>98</th>\n",
       "      <td>3</td>\n",
       "      <td>173</td>\n",
       "      <td>832</td>\n",
       "      <td>102</td>\n",
       "    </tr>\n",
       "    <tr>\n",
       "      <th>99</th>\n",
       "      <td>3</td>\n",
       "      <td>203</td>\n",
       "      <td>967</td>\n",
       "      <td>138</td>\n",
       "    </tr>\n",
       "    <tr>\n",
       "      <th>100</th>\n",
       "      <td>3</td>\n",
       "      <td>140</td>\n",
       "      <td>613</td>\n",
       "      <td>131</td>\n",
       "    </tr>\n",
       "    <tr>\n",
       "      <th>101</th>\n",
       "      <td>3</td>\n",
       "      <td>275</td>\n",
       "      <td>1373</td>\n",
       "      <td>45</td>\n",
       "    </tr>\n",
       "    <tr>\n",
       "      <th>102</th>\n",
       "      <td>3</td>\n",
       "      <td>260</td>\n",
       "      <td>1133</td>\n",
       "      <td>118</td>\n",
       "    </tr>\n",
       "    <tr>\n",
       "      <th>103</th>\n",
       "      <td>3</td>\n",
       "      <td>233</td>\n",
       "      <td>1183</td>\n",
       "      <td>73</td>\n",
       "    </tr>\n",
       "    <tr>\n",
       "      <th>104</th>\n",
       "      <td>3</td>\n",
       "      <td>146</td>\n",
       "      <td>847</td>\n",
       "      <td>103</td>\n",
       "    </tr>\n",
       "    <tr>\n",
       "      <th>105</th>\n",
       "      <td>3</td>\n",
       "      <td>124</td>\n",
       "      <td>538</td>\n",
       "      <td>460</td>\n",
       "    </tr>\n",
       "    <tr>\n",
       "      <th>106</th>\n",
       "      <td>3</td>\n",
       "      <td>213</td>\n",
       "      <td>1001</td>\n",
       "      <td>42</td>\n",
       "    </tr>\n",
       "    <tr>\n",
       "      <th>107</th>\n",
       "      <td>3</td>\n",
       "      <td>330</td>\n",
       "      <td>1520</td>\n",
       "      <td>13</td>\n",
       "    </tr>\n",
       "    <tr>\n",
       "      <th>108</th>\n",
       "      <td>3</td>\n",
       "      <td>123</td>\n",
       "      <td>557</td>\n",
       "      <td>130</td>\n",
       "    </tr>\n",
       "    <tr>\n",
       "      <th>109</th>\n",
       "      <td>3</td>\n",
       "      <td>130</td>\n",
       "      <td>670</td>\n",
       "      <td>44</td>\n",
       "    </tr>\n",
       "    <tr>\n",
       "      <th>110</th>\n",
       "      <td>3</td>\n",
       "      <td>120</td>\n",
       "      <td>636</td>\n",
       "      <td>314</td>\n",
       "    </tr>\n",
       "    <tr>\n",
       "      <th>111</th>\n",
       "      <td>3</td>\n",
       "      <td>138</td>\n",
       "      <td>741</td>\n",
       "      <td>219</td>\n",
       "    </tr>\n",
       "    <tr>\n",
       "      <th>112</th>\n",
       "      <td>3</td>\n",
       "      <td>188</td>\n",
       "      <td>958</td>\n",
       "      <td>100</td>\n",
       "    </tr>\n",
       "    <tr>\n",
       "      <th>113</th>\n",
       "      <td>3</td>\n",
       "      <td>339</td>\n",
       "      <td>1354</td>\n",
       "      <td>10</td>\n",
       "    </tr>\n",
       "    <tr>\n",
       "      <th>114</th>\n",
       "      <td>3</td>\n",
       "      <td>213</td>\n",
       "      <td>1025</td>\n",
       "      <td>29</td>\n",
       "    </tr>\n",
       "  </tbody>\n",
       "</table>\n",
       "<p>115 rows × 4 columns</p>\n",
       "</div>"
      ],
      "text/plain": [
       "     Clase  glucosa  insulina  sspg\n",
       "0        1       97       289   117\n",
       "1        1      105       319   143\n",
       "2        1       90       356   199\n",
       "3        1       90       323   240\n",
       "4        1       86       381   157\n",
       "5        1      100       350   221\n",
       "6        1       85       301   186\n",
       "7        1       97       379   142\n",
       "8        1       97       296   131\n",
       "9        1       91       353   221\n",
       "10       1       87       306   178\n",
       "11       1       78       290   136\n",
       "12       1       90       371   200\n",
       "13       1       80       393   202\n",
       "14       1       90       364   152\n",
       "15       1       99       359   185\n",
       "16       1       85       296   116\n",
       "17       1       90       345   123\n",
       "18       1       90       378   136\n",
       "19       1       88       304   134\n",
       "20       1       90       327   192\n",
       "21       1       92       386   279\n",
       "22       1       98       365   145\n",
       "23       1      100       352   172\n",
       "24       1       86       325   179\n",
       "25       1       98       321   222\n",
       "26       1       70       360   134\n",
       "27       1       99       336   143\n",
       "28       1       75       352   169\n",
       "29       1       90       353   263\n",
       "..     ...      ...       ...   ...\n",
       "85       2       92       541   313\n",
       "86       2       92       580   132\n",
       "87       2       93       472   285\n",
       "88       2      112       562   139\n",
       "89       2       88       423   212\n",
       "90       2      114       643   155\n",
       "91       2      103       533   120\n",
       "92       3      303      1487    23\n",
       "93       3      125       714   232\n",
       "94       3      280      1470    54\n",
       "95       3      216      1113    81\n",
       "96       3      190       972    87\n",
       "97       3      303      1364    42\n",
       "98       3      173       832   102\n",
       "99       3      203       967   138\n",
       "100      3      140       613   131\n",
       "101      3      275      1373    45\n",
       "102      3      260      1133   118\n",
       "103      3      233      1183    73\n",
       "104      3      146       847   103\n",
       "105      3      124       538   460\n",
       "106      3      213      1001    42\n",
       "107      3      330      1520    13\n",
       "108      3      123       557   130\n",
       "109      3      130       670    44\n",
       "110      3      120       636   314\n",
       "111      3      138       741   219\n",
       "112      3      188       958   100\n",
       "113      3      339      1354    10\n",
       "114      3      213      1025    29\n",
       "\n",
       "[115 rows x 4 columns]"
      ]
     },
     "execution_count": 151,
     "metadata": {},
     "output_type": "execute_result"
    }
   ],
   "source": [
    "bu"
   ]
  },
  {
   "cell_type": "markdown",
   "metadata": {},
   "source": [
    "<a id='part2'></a>\n",
    "## Estandarizar los datos"
   ]
  },
  {
   "cell_type": "markdown",
   "metadata": {},
   "source": [
    "A continuación los datos Wine en conjuntos de prueba y de entrenamiento separados ( utilizando el 70% y el 30 % respectivamente ) y lo estandarizaremos a la varianza de la unidad."
   ]
  },
  {
   "cell_type": "code",
   "execution_count": 152,
   "metadata": {},
   "outputs": [
    {
     "name": "stderr",
     "output_type": "stream",
     "text": [
      "C:\\ProgramData\\Anaconda3\\lib\\site-packages\\sklearn\\utils\\validation.py:595: DataConversionWarning: Data with input dtype int64 was converted to float64 by StandardScaler.\n",
      "  warnings.warn(msg, DataConversionWarning)\n",
      "C:\\ProgramData\\Anaconda3\\lib\\site-packages\\sklearn\\utils\\validation.py:595: DataConversionWarning: Data with input dtype int64 was converted to float64 by StandardScaler.\n",
      "  warnings.warn(msg, DataConversionWarning)\n",
      "C:\\ProgramData\\Anaconda3\\lib\\site-packages\\sklearn\\utils\\validation.py:595: DataConversionWarning: Data with input dtype int64 was converted to float64 by StandardScaler.\n",
      "  warnings.warn(msg, DataConversionWarning)\n"
     ]
    }
   ],
   "source": [
    "from sklearn.model_selection import train_test_split\n",
    "x, y = bu.iloc[:, 1:].values, bu.iloc[:, 0].values\n",
    "x_train, x_test, y_train, y_test = \\\n",
    "    train_test_split (x, y, test_size=0.3,\n",
    "                        stratify=y,\n",
    "                     random_state=0)\n",
    "\n",
    "# estandarizar las caracteristicas\n",
    "\n",
    "from sklearn.preprocessing import StandardScaler\n",
    "sc = StandardScaler()\n",
    "x_train_std= sc.fit_transform(x_train)\n",
    "x_test_std= sc.transform(x_test)"
   ]
  },
  {
   "cell_type": "code",
   "execution_count": 153,
   "metadata": {},
   "outputs": [
    {
     "data": {
      "text/plain": [
       "array([[-1.3e-01, -1.4e-02,  1.3e+00],\n",
       "       [-5.5e-01, -6.8e-01, -1.7e-01],\n",
       "       [-1.2e-01,  1.1e-01,  5.0e+00],\n",
       "       [ 3.8e-02,  3.7e-01,  1.2e+00],\n",
       "       [-5.6e-01, -5.1e-01, -3.3e-02],\n",
       "       [ 2.8e+00,  3.2e+00, -1.1e+00],\n",
       "       [-4.4e-01,  1.8e-01, -4.0e-01],\n",
       "       [-4.8e-01, -5.7e-01,  1.8e-01],\n",
       "       [-8.2e-01, -5.6e-01, -3.8e-01],\n",
       "       [-6.5e-01, -6.5e-01, -4.1e-01],\n",
       "       [-3.2e-01, -5.6e-01,  6.3e-02],\n",
       "       [-4.3e-01, -7.4e-01,  3.7e-01],\n",
       "       [-5.5e-01, -4.9e-01, -1.8e-01],\n",
       "       [-3.2e-01, -5.0e-01, -3.8e-01],\n",
       "       [-5.3e-01, -7.4e-01,  1.8e-03],\n",
       "       [-3.8e-01, -2.3e-01,  1.3e+00],\n",
       "       [ 4.9e-01,  1.1e+00, -6.5e-01],\n",
       "       [-4.1e-01, -7.1e-01,  1.9e-01],\n",
       "       [-4.3e-01, -5.0e-01,  1.5e-01],\n",
       "       [ 3.2e+00,  2.8e+00, -1.2e+00],\n",
       "       [-4.4e-01, -2.8e-01, -6.0e-01],\n",
       "       [-2.4e-01, -1.8e-01,  1.9e-02],\n",
       "       [-3.2e-01, -2.0e-01,  9.5e-01],\n",
       "       [-3.2e-01, -4.3e-01, -8.9e-01],\n",
       "       [-4.4e-01, -1.7e-01,  2.2e+00],\n",
       "       [ 1.5e+00,  1.5e+00, -3.5e-01],\n",
       "       [-6.9e-01, -6.4e-01,  5.5e-01],\n",
       "       [-6.5e-01, -4.5e-01,  2.1e-01],\n",
       "       [ 9.5e-01,  1.0e+00, -6.6e-01],\n",
       "       [-4.6e-01, -3.0e-01, -2.6e-01],\n",
       "       [-3.8e-01, -3.6e-01, -4.2e-01],\n",
       "       [-3.2e-01, -6.4e-01, -3.0e-01],\n",
       "       [ 2.1e-01,  4.8e-01, -1.2e+00],\n",
       "       [-4.8e-01, -5.0e-01, -3.6e-01],\n",
       "       [ 2.4e+00,  2.0e+00, -5.2e-01],\n",
       "       [-2.0e-01, -4.4e-01, -4.3e-01],\n",
       "       [-5.6e-01, -3.4e-01, -3.0e-01],\n",
       "       [-3.1e-01, -5.9e-01,  3.8e-01],\n",
       "       [-1.9e-01, -4.1e-01,  7.8e-01],\n",
       "       [-3.1e-01, -4.7e-01,  1.2e-01],\n",
       "       [-1.0e-01,  1.4e-01,  4.7e-01],\n",
       "       [-4.8e-01, -5.4e-01, -2.2e-01],\n",
       "       [-4.3e-01, -5.4e-01, -1.9e-01],\n",
       "       [-6.0e-01, -5.9e-01, -8.4e-01],\n",
       "       [-2.5e-01,  2.3e-02, -5.0e-01],\n",
       "       [-4.8e-01, -6.1e-01, -4.8e-01],\n",
       "       [-3.4e-01, -5.4e-01, -2.9e-01],\n",
       "       [-3.6e-01, -7.7e-01, -4.1e-01],\n",
       "       [ 3.5e-01,  7.2e-01,  3.6e-01],\n",
       "       [-4.8e-01, -5.7e-01,  1.8e-01],\n",
       "       [-6.9e-01, -7.9e-01, -3.6e-01],\n",
       "       [-4.3e-01, -1.8e-01,  9.3e-01],\n",
       "       [ 1.2e+00,  1.5e+00, -7.9e-01],\n",
       "       [-3.8e-01, -5.7e-01, -5.7e-01],\n",
       "       [-3.4e-01, -6.9e-01,  3.8e-01],\n",
       "       [ 3.8e+00,  2.8e+00, -1.5e+00],\n",
       "       [-3.1e-01, -5.3e-01,  3.7e-02],\n",
       "       [ 3.2e+00,  3.2e+00, -1.3e+00],\n",
       "       [-4.8e-01, -6.7e-01,  1.2e-01],\n",
       "       [-7.4e-01, -5.8e-01, -7.6e-02],\n",
       "       [ 1.2e-01,  6.3e-01,  4.7e-01],\n",
       "       [-4.1e-01, -7.9e-01, -7.3e-01],\n",
       "       [-5.0e-01, -7.0e-01, -9.1e-01],\n",
       "       [-5.5e-01, -4.5e-01, -5.5e-01],\n",
       "       [-2.7e-01,  2.4e-01,  7.7e-01],\n",
       "       [-5.1e-01, -7.9e-01, -1.8e-01],\n",
       "       [-1.0e-01,  1.2e-01, -3.4e-01],\n",
       "       [ 1.6e+00,  1.7e+00, -1.3e+00],\n",
       "       [-5.6e-01, -7.7e-01, -5.4e-01],\n",
       "       [-3.9e-01, -3.1e-02,  3.4e+00],\n",
       "       [-4.8e-01, -5.8e-01,  7.4e-01],\n",
       "       [-3.4e-01, -1.6e-01, -2.3e-01],\n",
       "       [-3.6e-01, -4.9e-01, -3.1e-01],\n",
       "       [-4.4e-01,  4.9e-02,  1.2e+00],\n",
       "       [-3.1e-01, -4.3e-01, -4.9e-01],\n",
       "       [-2.7e-01, -5.0e-01, -1.1e-01],\n",
       "       [-3.8e-01, -6.5e-01, -2.3e-01],\n",
       "       [ 2.0e+00,  2.2e+00, -9.1e-01],\n",
       "       [-4.3e-01, -4.5e-01,  2.7e+00],\n",
       "       [ 2.7e+00,  2.8e+00, -1.2e+00]])"
      ]
     },
     "execution_count": 153,
     "metadata": {},
     "output_type": "execute_result"
    }
   ],
   "source": [
    "x_train_std"
   ]
  },
  {
   "cell_type": "markdown",
   "metadata": {},
   "source": [
    "<a id='part3'></a>\n",
    "## Calcula las matrices de dispersión\n"
   ]
  },
  {
   "cell_type": "markdown",
   "metadata": {},
   "source": [
    "Calcule los vectores medios para cada clase:"
   ]
  },
  {
   "cell_type": "code",
   "execution_count": 155,
   "metadata": {},
   "outputs": [
    {
     "name": "stdout",
     "output_type": "stream",
     "text": [
      "MV 1: [-0.45 -0.58 -0.09]\n",
      "\n",
      "MV 2: [-0.33 -0.07  0.82]\n",
      "\n"
     ]
    }
   ],
   "source": [
    "import numpy as np\n",
    "np.set_printoptions(precision=2)\n",
    "\n",
    "mean_vecs = []\n",
    "for label in range(1,3):\n",
    "    mean_vecs.append(np.mean(x_train_std[y_train == label], axis=0))\n",
    "    print('MV %s: %s\\n' % (label, mean_vecs[label-1]))"
   ]
  },
  {
   "cell_type": "markdown",
   "metadata": {},
   "source": [
    "Calcular la matriz de dispersión dentro de la clase:"
   ]
  },
  {
   "cell_type": "code",
   "execution_count": 156,
   "metadata": {},
   "outputs": [
    {
     "name": "stdout",
     "output_type": "stream",
     "text": [
      "Within-class scatter matrix: 3x3\n"
     ]
    }
   ],
   "source": [
    "d = 3 # número de características\n",
    "S_W = np.zeros((d, d))\n",
    "for label, mv in zip(range(1, 2), mean_vecs):\n",
    "    class_scatter = np.zeros((d, d))  # matriz de dispersión para cada clase\n",
    "    for row in x_train_std[y_train == label]:\n",
    "        row, mv = row.reshape(d, 1), mv.reshape(d, 1)  # hacer vectores de columna\n",
    "        class_scatter += (row - mv).dot((row - mv).T)\n",
    "    S_W += class_scatter                          \n",
    "\n",
    "print('Within-class scatter matrix: %sx%s' % (S_W.shape[0], S_W.shape[1]))"
   ]
  },
  {
   "cell_type": "markdown",
   "metadata": {},
   "source": [
    "La suposición de lo que estamos haciendo cuando calculamos las matrices de disperción es que las etiquetas de clase en el conjunto de datos de entrenamiento estan distribuidas uniformemente. Sin embargo, si mostramos el número de etiquetas de clase, vemos que se ha incumplido dicha suposición:"
   ]
  },
  {
   "cell_type": "code",
   "execution_count": 157,
   "metadata": {},
   "outputs": [
    {
     "name": "stdout",
     "output_type": "stream",
     "text": [
      "Class label distribution: [46 18 16]\n"
     ]
    }
   ],
   "source": [
    "print('Class label distribution: %s' \n",
    "      % np.bincount(y_train)[1:])"
   ]
  },
  {
   "cell_type": "markdown",
   "metadata": {},
   "source": [
    "Por lo tanto, debemos escalar las matrices de disperción individuales $S_i$ antes de sumarlo como matriz de dispersión $S_w$"
   ]
  },
  {
   "cell_type": "code",
   "execution_count": 159,
   "metadata": {},
   "outputs": [
    {
     "name": "stdout",
     "output_type": "stream",
     "text": [
      "Scaled within-class scatter matrix: 3x3\n"
     ]
    }
   ],
   "source": [
    "d = 3  # número de caracterisicas.\n",
    "S_W = np.zeros((d, d))\n",
    "for label, mv in zip(range(1, 4), mean_vecs):\n",
    "    class_scatter = np.cov(x_train_std[y_train == label].T)\n",
    "    S_W += class_scatter\n",
    "print('Scaled within-class scatter matrix: %sx%s' % (S_W.shape[0],\n",
    "                                                     S_W.shape[1]))"
   ]
  },
  {
   "cell_type": "markdown",
   "metadata": {},
   "source": [
    "Calcular la matriz de dispersión entre clases $S_w$:"
   ]
  },
  {
   "cell_type": "code",
   "execution_count": 161,
   "metadata": {},
   "outputs": [
    {
     "name": "stdout",
     "output_type": "stream",
     "text": [
      "Between-class scatter matrix: 3x3\n"
     ]
    }
   ],
   "source": [
    "mean_overall = np.mean(x_train_std, axis=0)\n",
    "d = 3  # number of features\n",
    "S_B = np.zeros((d, d))\n",
    "for i, mean_vec in enumerate(mean_vecs):\n",
    "    n = x_train[y_train == i + 1, :].shape[0]\n",
    "    mean_vec = mean_vec.reshape(d, 1)  # make column vector\n",
    "    mean_overall = mean_overall.reshape(d, 1)  # make column vector\n",
    "    S_B += n * (mean_vec - mean_overall).dot((mean_vec - mean_overall).T)\n",
    "\n",
    "print('Between-class scatter matrix: %sx%s' % (S_B.shape[0], S_B.shape[1]))"
   ]
  },
  {
   "cell_type": "markdown",
   "metadata": {},
   "source": [
    "<br>\n",
    "<br>"
   ]
  },
  {
   "cell_type": "markdown",
   "metadata": {},
   "source": [
    "<a id='part4'></a>\n",
    "## Seleccionar discriminantes lineales para el nuevo subespacio de caracteristicas"
   ]
  },
  {
   "cell_type": "markdown",
   "metadata": {},
   "source": [
    "Resolver el problema generalizado del valor propio para la matriz $S_W^{-1}S_B$:"
   ]
  },
  {
   "cell_type": "code",
   "execution_count": 162,
   "metadata": {},
   "outputs": [],
   "source": [
    "eigen_vals, eigen_vecs = np.linalg.eig(np.linalg.inv(S_W).dot(S_B))"
   ]
  },
  {
   "cell_type": "markdown",
   "metadata": {},
   "source": [
    "**Note**:\n",
    "    \n",
    "Arriba, utilicé la función  [`numpy.linalg.eig`](http://docs.scipy.org/doc/numpy/reference/generated/numpy.linalg.eig.html) para descomponer la matriz de covarianza simétrica en sus autovalores y autovectores.\n",
    "    <pre>>>> eigen_vals, eigen_vecs = np.linalg.eig(cov_mat)</pre>\n",
    "    Esto no es realmente un \"error\", pero probablemente no es óptimo. Sería mejor utilizar  [`numpy.linalg.eigh`](http://docs.scipy.org/doc/numpy/reference/generated/numpy.linalg.eigh.html) en tales casos, que ha sido diseñado para [Hermetian matrices](https://en.wikipedia.org/wiki/Hermitian_matrix). Este último siempre devuelve valores propios; mientras que el numéricamente menos estable `np.linalg.eig` puede descomponer matrices cuadradas no simétricas, puede encontrar que devuelve valores propios complejos en ciertos casos. "
   ]
  },
  {
   "cell_type": "markdown",
   "metadata": {},
   "source": [
    "Ordenar los autovectores en orden descendente de los valores propios:"
   ]
  },
  {
   "cell_type": "code",
   "execution_count": 163,
   "metadata": {},
   "outputs": [
    {
     "name": "stdout",
     "output_type": "stream",
     "text": [
      "Eigenvalues in descending order:\n",
      "\n",
      "432.1913600492121\n",
      "39.95636374164057\n",
      "4.45292347806484e-15\n"
     ]
    }
   ],
   "source": [
    "# Make a list of (eigenvalue, eigenvector) tuples\n",
    "eigen_pairs = [(np.abs(eigen_vals[i]), eigen_vecs[:, i])\n",
    "               for i in range(len(eigen_vals))]\n",
    "\n",
    "# Sort the (eigenvalue, eigenvector) tuples from high to low\n",
    "eigen_pairs = sorted(eigen_pairs, key=lambda k: k[0], reverse=True)\n",
    "\n",
    "# Visually confirm that the list is correctly sorted by decreasing eigenvalues\n",
    "\n",
    "print('Eigenvalues in descending order:\\n')\n",
    "for eigen_val in eigen_pairs:\n",
    "    print(eigen_val[0])"
   ]
  },
  {
   "cell_type": "markdown",
   "metadata": {},
   "source": [
    "Para medir la cantidad de información discriminante de clase capturada por los discriminantes lineales(autovectores), vamos a representar gráficamente los discriminantes lineales reduciendo los autovalores. "
   ]
  },
  {
   "cell_type": "code",
   "execution_count": 166,
   "metadata": {},
   "outputs": [
    {
     "data": {
      "image/png": "[encoded data removed]",
      "text/plain": [
       "<Figure size 432x288 with 1 Axes>"
      ]
     },
     "metadata": {
      "needs_background": "light"
     },
     "output_type": "display_data"
    }
   ],
   "source": [
    "import matplotlib.pyplot as plt\n",
    "\n",
    "tot = sum(eigen_vals.real)\n",
    "discr = [(i / tot) for i in sorted(eigen_vals.real, reverse=True)]\n",
    "cum_discr = np.cumsum(discr)\n",
    "\n",
    "plt.bar(range(1, 4), discr, alpha=0.5, align='center',\n",
    "        label='individual \"discriminability\"')\n",
    "plt.step(range(1, 4), cum_discr, where='mid',\n",
    "         label='cumulative \"discriminability\"')\n",
    "plt.ylabel('\"discriminability\" ratio')\n",
    "plt.xlabel('Linear Discriminants')\n",
    "plt.ylim([-0.1, 1.1])\n",
    "plt.legend(loc='best')\n",
    "plt.tight_layout()\n",
    "# plt.savefig('images/05_07.png', dpi=300)\n",
    "plt.show()"
   ]
  },
  {
   "cell_type": "markdown",
   "metadata": {},
   "source": [
    "    *  Como podemos observar en la imagen, los dos primeros discriminantes linelaes capturan el 100% de la información util."
   ]
  },
  {
   "cell_type": "code",
   "execution_count": 167,
   "metadata": {},
   "outputs": [
    {
     "name": "stdout",
     "output_type": "stream",
     "text": [
      "Matrix W:\n",
      " [[ 0.63  0.76]\n",
      " [ 0.77 -0.65]\n",
      " [-0.03 -0.03]]\n"
     ]
    }
   ],
   "source": [
    "w = np.hstack((eigen_pairs[0][1][:, np.newaxis].real,\n",
    "              eigen_pairs[1][1][:, np.newaxis].real))\n",
    "print('Matrix W:\\n', w)"
   ]
  },
  {
   "cell_type": "markdown",
   "metadata": {},
   "source": [
    "<br>\n",
    "<br>"
   ]
  },
  {
   "cell_type": "markdown",
   "metadata": {},
   "source": [
    "<a id='part5'></a>\n",
    "## Proyección de muestras en el nuevo espacio de características"
   ]
  },
  {
   "cell_type": "markdown",
   "metadata": {},
   "source": [
    "Mediante la matriz de transformación **W** creada en la sección anterior, podemos transformar ahora el conjunto de datos de entrenamiento multiplicando las matrices.  "
   ]
  },
  {
   "cell_type": "code",
   "execution_count": 171,
   "metadata": {},
   "outputs": [
    {
     "data": {
      "image/png": "[encoded data removed]",
      "text/plain": [
       "<Figure size 432x288 with 1 Axes>"
      ]
     },
     "metadata": {
      "needs_background": "light"
     },
     "output_type": "display_data"
    }
   ],
   "source": [
    "X_train_lda = x_train_std.dot(w)\n",
    "\n",
    "colors = ['r', 'b']\n",
    "markers = ['s', 'x']\n",
    "\n",
    "for l, c, m in zip(np.unique(y_train), colors, markers):\n",
    "    plt.scatter(X_train_lda[y_train == l, 0],\n",
    "                X_train_lda[y_train == l, 1] * (-1),\n",
    "                c=c, label=l, marker=m)\n",
    "\n",
    "plt.xlabel('LD 1')\n",
    "plt.ylabel('LD 2')\n",
    "plt.legend(loc='lower right')\n",
    "plt.tight_layout()\n",
    "# plt.savefig('images/05_08.png', dpi=300)\n",
    "plt.show()"
   ]
  },
  {
   "cell_type": "markdown",
   "metadata": {},
   "source": [
    "    * Como podemos ver en el diagrama resultante, la data puede ser separadas linealmente a la perfección en 3 clases a 2, en el nuevo subespacio de caracteristicas."
   ]
  },
  {
   "cell_type": "markdown",
   "metadata": {},
   "source": [
    "<br>\n",
    "<br>"
   ]
  }
 ],
 "metadata": {
  "anaconda-cloud": {},
  "kernelspec": {
   "display_name": "Python 3",
   "language": "python",
   "name": "python3"
  },
  "language_info": {
   "codemirror_mode": {
    "name": "ipython",
    "version": 3
   },
   "file_extension": ".py",
   "mimetype": "text/x-python",
   "name": "python",
   "nbconvert_exporter": "python",
   "pygments_lexer": "ipython3",
   "version": "3.7.3"
  }
 },
 "nbformat": 4,
 "nbformat_minor": 1
}
