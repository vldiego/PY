{
 "cells": [
  {
   "cell_type": "markdown",
   "metadata": {},
   "source": [
    "<center><img src=\"http://milestonetechs.com/media/filer_public_thumbnails/filer_public/24/26/24260fc4-2637-4348-b2bd-3c333f2f806d/python_logo.jpg__800x250_q85_crop_subsampling-2.jpg\" width=\"1000\"></center>"
   ]
  },
  {
   "cell_type": "markdown",
   "metadata": {},
   "source": [
    "# Programa de Especialización en Python\n",
    "\n",
    "## Tema 3. Métodos jerárquicos: teoría\n",
    "\n",
    "### Prof. Manuel Sigüeñas, M.Sc.(c)\n",
    "[msguenas@socialdata-peru.com](msguenas@socialdata-peru.com)"
   ]
  },
  {
   "cell_type": "markdown",
   "metadata": {},
   "source": [
    "En estos algoritmos se generan sucesiones ordenadas (jerarquías) de conglomerados. Puede ser juntando conglomerados pequeños en más grandes o dividiendo grandes conglomerados en otros más pequeños."
   ]
  },
  {
   "cell_type": "markdown",
   "metadata": {},
   "source": [
    "La estructura jerárquica es representada en forma de un árbol y es llamada Dendograma."
   ]
  },
  {
   "cell_type": "markdown",
   "metadata": {},
   "source": [
    "Se dividen en dos tipos:\n",
    "- a. Algoritmos jerárquicos aglomerativos. Inicialmente cada observación es un conglomerado.\n",
    "- b. Algoritmos jerárquicos divisivos. Inicialmente todas las observaciones están en un solo conglomerado."
   ]
  },
  {
   "cell_type": "markdown",
   "metadata": {},
   "source": [
    "- Suponiendo que tenemos datos de $n$ individuos.\n",
    "- Se empieza con $n$ conglomerados.\n",
    "- En cada paso se juntan los conglomerados más cercanos usando una medida de distancia entre conglomerados (linkage)."
   ]
  },
  {
   "cell_type": "markdown",
   "metadata": {},
   "source": [
    "Sea $d$($x$,$y$) la distancia entre la observación $x$ y la observación $y$. La distancia entre los conglomerados $S$ y $T$ puede ser calculada como:\n",
    "\n",
    "- Linkage Simple.\n",
    "- Linkage Completo.\n",
    "- Linkage Promedio.\n",
    "- Linkage Centroide.\n",
    "- Linkage Mediana.\n",
    "- Linkage de Mc Quitty.\n",
    "- Linkage de Ward."
   ]
  },
  {
   "cell_type": "markdown",
   "metadata": {},
   "source": [
    "Suponiendo que tenemos una matriz de datos $m$ x $n$. Se empieza con $m$ conglomerados si se desea formar grupos de muestras (filas) o con $n$ clúster si se quiere formar grupos de variables (columnas). En cada paso se juntan los clústers más cercanos usando una medida de distancia entre clúster (linkage), que ya se discutieron anteriormente. Entre estas distancias están:"
   ]
  },
  {
   "cell_type": "markdown",
   "metadata": {},
   "source": [
    "**Linkage promedio:** Promedio de las distancias de las observaciones de cada clúster."
   ]
  },
  {
   "cell_type": "markdown",
   "metadata": {},
   "source": [
    "**Linkage simple:** La menor distancia entre las observaciones de cada clúster."
   ]
  },
  {
   "cell_type": "markdown",
   "metadata": {},
   "source": [
    "**Linkage completo:** La mayor distancia entre las observaciones de cada clúster."
   ]
  },
  {
   "cell_type": "markdown",
   "metadata": {},
   "source": [
    "#### Método jerárquico aglomerativo (AGNES)"
   ]
  },
  {
   "cell_type": "markdown",
   "metadata": {},
   "source": [
    "Cuando el conjunto de datos posee una clara estructura de conglomerados, se espera que las disimilaridades entre conglomerados sean mucho más grandes que las disimilaridades dentro de los conglomerados. Por lo tanto, se espera que los valores de $m_{(i)}$ sean bajos lo que hace que el valor de AC se acerque a su valor máximo 1."
   ]
  },
  {
   "cell_type": "markdown",
   "metadata": {},
   "source": [
    "Se sabe que el coeficiente de aglomeración tiende a tener valores grandes a medida que el valor de $n$ se incrementa. Por lo tanto, no debe ser usado para comparar conjuntos de datos de diferentes tamaños."
   ]
  },
  {
   "cell_type": "markdown",
   "metadata": {},
   "source": [
    "#### Método jerárquico divisivo (DIANA)"
   ]
  },
  {
   "cell_type": "markdown",
   "metadata": {},
   "source": [
    "Se comienza con un solo clúster y se pasa a dividir los clusters en dos subgrupos cada vez."
   ]
  },
  {
   "cell_type": "markdown",
   "metadata": {},
   "source": [
    "El algoritmo DIANA (Divisive Analysis) considera el método jerárquico divisivo, se encuentra implementado en la función diana de la librer´ıa cluster."
   ]
  }
 ],
 "metadata": {
  "kernelspec": {
   "display_name": "Python 3",
   "language": "python",
   "name": "python3"
  },
  "language_info": {
   "codemirror_mode": {
    "name": "ipython",
    "version": 3
   },
   "file_extension": ".py",
   "mimetype": "text/x-python",
   "name": "python",
   "nbconvert_exporter": "python",
   "pygments_lexer": "ipython3",
   "version": "3.7.3"
  }
 },
 "nbformat": 4,
 "nbformat_minor": 2
}
