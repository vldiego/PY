{
 "cells": [
  {
   "cell_type": "markdown",
   "metadata": {},
   "source": [
    "<center><img src=\"http://milestonetechs.com/media/filer_public_thumbnails/filer_public/24/26/24260fc4-2637-4348-b2bd-3c333f2f806d/python_logo.jpg__800x250_q85_crop_subsampling-2.jpg\" width=\"1000\"></center>"
   ]
  },
  {
   "cell_type": "markdown",
   "metadata": {},
   "source": [
    "## Caso: determinantes del ausentismo electoral"
   ]
  },
  {
   "cell_type": "code",
   "execution_count": 2,
   "metadata": {},
   "outputs": [],
   "source": [
    "import pyreadstat"
   ]
  },
  {
   "cell_type": "code",
   "execution_count": 3,
   "metadata": {},
   "outputs": [],
   "source": [
    "filesav = 'C:/Users/SOCIAL DATA/Dropbox/Python/2. intermedio/sesión_3/datos/AusentismoPres2011.sav'\n",
    "df, meta = pyreadstat.read_sav(filesav )"
   ]
  },
  {
   "cell_type": "code",
   "execution_count": 4,
   "metadata": {},
   "outputs": [
    {
     "data": {
      "text/html": [
       "<div>\n",
       "<style scoped>\n",
       "    .dataframe tbody tr th:only-of-type {\n",
       "        vertical-align: middle;\n",
       "    }\n",
       "\n",
       "    .dataframe tbody tr th {\n",
       "        vertical-align: top;\n",
       "    }\n",
       "\n",
       "    .dataframe thead th {\n",
       "        text-align: right;\n",
       "    }\n",
       "</style>\n",
       "<table border=\"1\" class=\"dataframe\">\n",
       "  <thead>\n",
       "    <tr style=\"text-align: right;\">\n",
       "      <th></th>\n",
       "      <th>Ubigeo</th>\n",
       "      <th>Departamento</th>\n",
       "      <th>Dom_Geo</th>\n",
       "      <th>Provincia</th>\n",
       "      <th>Distrito</th>\n",
       "      <th>NumeroDePersonasTotalElectoral</th>\n",
       "      <th>NumeroDePersonasAusentismo</th>\n",
       "      <th>PorcentajeDeAusentismoRespectoAlTotalElectoral</th>\n",
       "      <th>PorcentajeDeAusentismoOrdinal</th>\n",
       "      <th>PorcentajeDeAusentismoDicotomica</th>\n",
       "      <th>PorcentajeDeHogaresQueNoCuentanConMediosDeComunicacion</th>\n",
       "      <th>IDH</th>\n",
       "      <th>Alfabetismo</th>\n",
       "      <th>PartidoGanador</th>\n",
       "      <th>PorcentajeDeHogaresEnViviendasCon2oMasNBI</th>\n",
       "      <th>GINI</th>\n",
       "    </tr>\n",
       "  </thead>\n",
       "  <tbody>\n",
       "    <tr>\n",
       "      <th>0</th>\n",
       "      <td>010102</td>\n",
       "      <td>Amazonas</td>\n",
       "      <td>Norte</td>\n",
       "      <td>Chachapoyas</td>\n",
       "      <td>Asunción</td>\n",
       "      <td>234.0</td>\n",
       "      <td>59.0</td>\n",
       "      <td>25.213675</td>\n",
       "      <td>3.0</td>\n",
       "      <td>1.0</td>\n",
       "      <td>100.00</td>\n",
       "      <td>0.581463</td>\n",
       "      <td>86.893200</td>\n",
       "      <td>PERU POSIBLE</td>\n",
       "      <td>51.11</td>\n",
       "      <td>0.30</td>\n",
       "    </tr>\n",
       "    <tr>\n",
       "      <th>1</th>\n",
       "      <td>010103</td>\n",
       "      <td>Amazonas</td>\n",
       "      <td>Norte</td>\n",
       "      <td>Chachapoyas</td>\n",
       "      <td>Balsas</td>\n",
       "      <td>848.0</td>\n",
       "      <td>208.0</td>\n",
       "      <td>24.528301</td>\n",
       "      <td>3.0</td>\n",
       "      <td>1.0</td>\n",
       "      <td>94.87</td>\n",
       "      <td>0.562141</td>\n",
       "      <td>86.527290</td>\n",
       "      <td>FUERZA 2011</td>\n",
       "      <td>20.23</td>\n",
       "      <td>0.31</td>\n",
       "    </tr>\n",
       "    <tr>\n",
       "      <th>2</th>\n",
       "      <td>010104</td>\n",
       "      <td>Amazonas</td>\n",
       "      <td>Norte</td>\n",
       "      <td>Chachapoyas</td>\n",
       "      <td>Cheto</td>\n",
       "      <td>478.0</td>\n",
       "      <td>51.0</td>\n",
       "      <td>10.669457</td>\n",
       "      <td>0.0</td>\n",
       "      <td>0.0</td>\n",
       "      <td>99.40</td>\n",
       "      <td>0.599150</td>\n",
       "      <td>92.838196</td>\n",
       "      <td>GANA PERU</td>\n",
       "      <td>16.87</td>\n",
       "      <td>0.28</td>\n",
       "    </tr>\n",
       "    <tr>\n",
       "      <th>3</th>\n",
       "      <td>010105</td>\n",
       "      <td>Amazonas</td>\n",
       "      <td>Norte</td>\n",
       "      <td>Chachapoyas</td>\n",
       "      <td>Chiliquín</td>\n",
       "      <td>638.0</td>\n",
       "      <td>197.0</td>\n",
       "      <td>30.877743</td>\n",
       "      <td>3.0</td>\n",
       "      <td>1.0</td>\n",
       "      <td>99.60</td>\n",
       "      <td>0.545484</td>\n",
       "      <td>86.541740</td>\n",
       "      <td>FUERZA 2011</td>\n",
       "      <td>31.73</td>\n",
       "      <td>0.29</td>\n",
       "    </tr>\n",
       "    <tr>\n",
       "      <th>4</th>\n",
       "      <td>010106</td>\n",
       "      <td>Amazonas</td>\n",
       "      <td>Norte</td>\n",
       "      <td>Chachapoyas</td>\n",
       "      <td>Chuquibamba</td>\n",
       "      <td>1161.0</td>\n",
       "      <td>333.0</td>\n",
       "      <td>28.682170</td>\n",
       "      <td>3.0</td>\n",
       "      <td>1.0</td>\n",
       "      <td>99.62</td>\n",
       "      <td>0.584659</td>\n",
       "      <td>92.598430</td>\n",
       "      <td>FUERZA 2011</td>\n",
       "      <td>17.55</td>\n",
       "      <td>0.31</td>\n",
       "    </tr>\n",
       "  </tbody>\n",
       "</table>\n",
       "</div>"
      ],
      "text/plain": [
       "   Ubigeo Departamento Dom_Geo    Provincia     Distrito  \\\n",
       "0  010102     Amazonas   Norte  Chachapoyas     Asunción   \n",
       "1  010103     Amazonas   Norte  Chachapoyas       Balsas   \n",
       "2  010104     Amazonas   Norte  Chachapoyas        Cheto   \n",
       "3  010105     Amazonas   Norte  Chachapoyas    Chiliquín   \n",
       "4  010106     Amazonas   Norte  Chachapoyas  Chuquibamba   \n",
       "\n",
       "   NumeroDePersonasTotalElectoral  NumeroDePersonasAusentismo  \\\n",
       "0                           234.0                        59.0   \n",
       "1                           848.0                       208.0   \n",
       "2                           478.0                        51.0   \n",
       "3                           638.0                       197.0   \n",
       "4                          1161.0                       333.0   \n",
       "\n",
       "   PorcentajeDeAusentismoRespectoAlTotalElectoral  \\\n",
       "0                                       25.213675   \n",
       "1                                       24.528301   \n",
       "2                                       10.669457   \n",
       "3                                       30.877743   \n",
       "4                                       28.682170   \n",
       "\n",
       "   PorcentajeDeAusentismoOrdinal  PorcentajeDeAusentismoDicotomica  \\\n",
       "0                            3.0                               1.0   \n",
       "1                            3.0                               1.0   \n",
       "2                            0.0                               0.0   \n",
       "3                            3.0                               1.0   \n",
       "4                            3.0                               1.0   \n",
       "\n",
       "   PorcentajeDeHogaresQueNoCuentanConMediosDeComunicacion       IDH  \\\n",
       "0                                             100.00       0.581463   \n",
       "1                                              94.87       0.562141   \n",
       "2                                              99.40       0.599150   \n",
       "3                                              99.60       0.545484   \n",
       "4                                              99.62       0.584659   \n",
       "\n",
       "   Alfabetismo PartidoGanador  PorcentajeDeHogaresEnViviendasCon2oMasNBI  GINI  \n",
       "0    86.893200   PERU POSIBLE                                      51.11  0.30  \n",
       "1    86.527290    FUERZA 2011                                      20.23  0.31  \n",
       "2    92.838196      GANA PERU                                      16.87  0.28  \n",
       "3    86.541740    FUERZA 2011                                      31.73  0.29  \n",
       "4    92.598430    FUERZA 2011                                      17.55  0.31  "
      ]
     },
     "execution_count": 4,
     "metadata": {},
     "output_type": "execute_result"
    }
   ],
   "source": [
    "df.head()"
   ]
  },
  {
   "cell_type": "markdown",
   "metadata": {},
   "source": [
    "###### Descripción de variables:\n",
    "\n",
    "- TARGET: PorcentajeDeAusentismoRespectoAlTotalElectoral\n",
    "- X1: PorcentajeDeHogaresQueNoCuentanConMediosDeComunicacion\n",
    "- X2: IDH\n",
    "- X3: Alfabetismo\n",
    "- X4: PorcentajeDeHogaresEnViviendasCon2oMasNBI"
   ]
  },
  {
   "cell_type": "markdown",
   "metadata": {},
   "source": [
    "Ejercicio:\n",
    "\n",
    "- 1. realizar un análisis exploratorio de las variables predictoras con respecto al target (matriz de dispersión y mapa de calor de las correlaciones.\n",
    "- 2. Construir los datos de entrenamiento y de prueba, teniendo en cuenta que 80% de los datos es para entrenamoento y 20% de prueba.\n",
    "- 3. Realizar un modelo de regresión lineal simple: TARGET ~ X1\n",
    "- 4. Realizar un modelo de regresión lineal múltiple: TARGET ~ X1 +X2 +X3 + X4\n",
    "- Evaluar el modelo: Raíz cuadra del error cuadrático medio y $R^2$"
   ]
  },
  {
   "cell_type": "code",
   "execution_count": 5,
   "metadata": {},
   "outputs": [],
   "source": [
    "ausent = df[[\"PorcentajeDeHogaresQueNoCuentanConMediosDeComunicacion\", \"IDH\", \"Alfabetismo\", \"PorcentajeDeHogaresEnViviendasCon2oMasNBI\",\"PorcentajeDeAusentismoRespectoAlTotalElectoral\"]]"
   ]
  },
  {
   "cell_type": "code",
   "execution_count": 6,
   "metadata": {},
   "outputs": [
    {
     "data": {
      "text/html": [
       "<div>\n",
       "<style scoped>\n",
       "    .dataframe tbody tr th:only-of-type {\n",
       "        vertical-align: middle;\n",
       "    }\n",
       "\n",
       "    .dataframe tbody tr th {\n",
       "        vertical-align: top;\n",
       "    }\n",
       "\n",
       "    .dataframe thead th {\n",
       "        text-align: right;\n",
       "    }\n",
       "</style>\n",
       "<table border=\"1\" class=\"dataframe\">\n",
       "  <thead>\n",
       "    <tr style=\"text-align: right;\">\n",
       "      <th></th>\n",
       "      <th>PorcentajeDeHogaresQueNoCuentanConMediosDeComunicacion</th>\n",
       "      <th>IDH</th>\n",
       "      <th>Alfabetismo</th>\n",
       "      <th>PorcentajeDeHogaresEnViviendasCon2oMasNBI</th>\n",
       "      <th>PorcentajeDeAusentismoRespectoAlTotalElectoral</th>\n",
       "    </tr>\n",
       "  </thead>\n",
       "  <tbody>\n",
       "    <tr>\n",
       "      <th>0</th>\n",
       "      <td>100.00</td>\n",
       "      <td>0.581463</td>\n",
       "      <td>86.893200</td>\n",
       "      <td>51.11</td>\n",
       "      <td>25.213675</td>\n",
       "    </tr>\n",
       "    <tr>\n",
       "      <th>1</th>\n",
       "      <td>94.87</td>\n",
       "      <td>0.562141</td>\n",
       "      <td>86.527290</td>\n",
       "      <td>20.23</td>\n",
       "      <td>24.528301</td>\n",
       "    </tr>\n",
       "    <tr>\n",
       "      <th>2</th>\n",
       "      <td>99.40</td>\n",
       "      <td>0.599150</td>\n",
       "      <td>92.838196</td>\n",
       "      <td>16.87</td>\n",
       "      <td>10.669457</td>\n",
       "    </tr>\n",
       "    <tr>\n",
       "      <th>3</th>\n",
       "      <td>99.60</td>\n",
       "      <td>0.545484</td>\n",
       "      <td>86.541740</td>\n",
       "      <td>31.73</td>\n",
       "      <td>30.877743</td>\n",
       "    </tr>\n",
       "    <tr>\n",
       "      <th>4</th>\n",
       "      <td>99.62</td>\n",
       "      <td>0.584659</td>\n",
       "      <td>92.598430</td>\n",
       "      <td>17.55</td>\n",
       "      <td>28.682170</td>\n",
       "    </tr>\n",
       "  </tbody>\n",
       "</table>\n",
       "</div>"
      ],
      "text/plain": [
       "   PorcentajeDeHogaresQueNoCuentanConMediosDeComunicacion       IDH  \\\n",
       "0                                             100.00       0.581463   \n",
       "1                                              94.87       0.562141   \n",
       "2                                              99.40       0.599150   \n",
       "3                                              99.60       0.545484   \n",
       "4                                              99.62       0.584659   \n",
       "\n",
       "   Alfabetismo  PorcentajeDeHogaresEnViviendasCon2oMasNBI  \\\n",
       "0    86.893200                                      51.11   \n",
       "1    86.527290                                      20.23   \n",
       "2    92.838196                                      16.87   \n",
       "3    86.541740                                      31.73   \n",
       "4    92.598430                                      17.55   \n",
       "\n",
       "   PorcentajeDeAusentismoRespectoAlTotalElectoral  \n",
       "0                                       25.213675  \n",
       "1                                       24.528301  \n",
       "2                                       10.669457  \n",
       "3                                       30.877743  \n",
       "4                                       28.682170  "
      ]
     },
     "execution_count": 6,
     "metadata": {},
     "output_type": "execute_result"
    }
   ],
   "source": [
    "ausent.head()"
   ]
  },
  {
   "cell_type": "code",
   "execution_count": 24,
   "metadata": {},
   "outputs": [],
   "source": [
    "ausent = ausent.dropna(axis=0)"
   ]
  },
  {
   "cell_type": "code",
   "execution_count": 25,
   "metadata": {},
   "outputs": [],
   "source": [
    "from sklearn.model_selection import train_test_split"
   ]
  },
  {
   "cell_type": "code",
   "execution_count": 26,
   "metadata": {},
   "outputs": [],
   "source": [
    "X, y = ausent.iloc[:, 0:4].values, ausent.iloc[:, 4].values\n",
    "\n"
   ]
  },
  {
   "cell_type": "code",
   "execution_count": 27,
   "metadata": {},
   "outputs": [],
   "source": [
    "X = ausent.iloc[:, :-1].values\n",
    "y = ausent[\"PorcentajeDeAusentismoRespectoAlTotalElectoral\"].values\n",
    "\n",
    "X_train, X_test, y_train, y_test = train_test_split(\n",
    "    X, y, test_size=0.3, random_state=0)"
   ]
  },
  {
   "cell_type": "code",
   "execution_count": 28,
   "metadata": {},
   "outputs": [],
   "source": [
    "from sklearn.linear_model import LinearRegression"
   ]
  },
  {
   "cell_type": "code",
   "execution_count": 29,
   "metadata": {},
   "outputs": [],
   "source": [
    "slr = LinearRegression()\n",
    "\n",
    "slr.fit(X_train, y_train)\n",
    "y_train_pred = slr.predict(X_train)\n",
    "y_test_pred = slr.predict(X_test)"
   ]
  },
  {
   "cell_type": "code",
   "execution_count": 30,
   "metadata": {},
   "outputs": [],
   "source": [
    "from sklearn.metrics import mean_squared_error"
   ]
  },
  {
   "cell_type": "code",
   "execution_count": 31,
   "metadata": {},
   "outputs": [
    {
     "name": "stdout",
     "output_type": "stream",
     "text": [
      "MSE train: 46.671, test: 49.813\n"
     ]
    }
   ],
   "source": [
    "print('MSE train: %.3f, test: %.3f' % (\n",
    "        mean_squared_error(y_train, y_train_pred),\n",
    "        mean_squared_error(y_test, y_test_pred)))"
   ]
  },
  {
   "cell_type": "code",
   "execution_count": 32,
   "metadata": {},
   "outputs": [],
   "source": [
    "from sklearn.metrics import r2_score"
   ]
  },
  {
   "cell_type": "code",
   "execution_count": 33,
   "metadata": {},
   "outputs": [
    {
     "name": "stdout",
     "output_type": "stream",
     "text": [
      "R^2 train: 0.271, test: 0.261\n"
     ]
    }
   ],
   "source": [
    "print('R^2 train: %.3f, test: %.3f' % (\n",
    "        r2_score(y_train, y_train_pred),\n",
    "        r2_score(y_test, y_test_pred)))"
   ]
  }
 ],
 "metadata": {
  "kernelspec": {
   "display_name": "Python 3",
   "language": "python",
   "name": "python3"
  },
  "language_info": {
   "codemirror_mode": {
    "name": "ipython",
    "version": 3
   },
   "file_extension": ".py",
   "mimetype": "text/x-python",
   "name": "python",
   "nbconvert_exporter": "python",
   "pygments_lexer": "ipython3",
   "version": "3.7.3"
  }
 },
 "nbformat": 4,
 "nbformat_minor": 2
}
